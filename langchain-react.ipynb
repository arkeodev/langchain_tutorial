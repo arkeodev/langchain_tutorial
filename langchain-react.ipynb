{
  "nbformat": 4,
  "nbformat_minor": 0,
  "metadata": {
    "colab": {
      "provenance": [],
      "include_colab_link": true
    },
    "kernelspec": {
      "name": "python3",
      "display_name": "Python 3"
    },
    "language_info": {
      "name": "python"
    }
  },
  "cells": [
    {
      "cell_type": "markdown",
      "metadata": {
        "id": "view-in-github",
        "colab_type": "text"
      },
      "source": [
        "<a href=\"https://colab.research.google.com/github/arkeodev/langchain_tutorial/blob/main/YT_Exploring_ReAct_on_Langchain.ipynb\" target=\"_parent\"><img src=\"https://colab.research.google.com/assets/colab-badge.svg\" alt=\"Open In Colab\"/></a>"
      ]
    },
    {
      "cell_type": "code",
      "execution_count": 18,
      "metadata": {
        "id": "RRYSu48huSUW"
      },
      "outputs": [],
      "source": [
        "!pip -q install langchain huggingface_hub openai google-search-results tiktoken wikipedia langchain-community langchain-openai"
      ]
    },
    {
      "cell_type": "code",
      "source": [
        "import os\n",
        "import getpass\n",
        "\n",
        "os.environ[\"OPENAI_API_KEY\"] = getpass.getpass()\n"
      ],
      "metadata": {
        "id": "dNA4TsHpu6OM",
        "outputId": "c5ddf848-bf87-4276-d80f-ef4a7b9a0020",
        "colab": {
          "base_uri": "https://localhost:8080/"
        }
      },
      "execution_count": 19,
      "outputs": [
        {
          "name": "stdout",
          "output_type": "stream",
          "text": [
            "··········\n"
          ]
        }
      ]
    },
    {
      "cell_type": "code",
      "source": [
        "!pip show langchain"
      ],
      "metadata": {
        "id": "J-KFB7J_u_3L",
        "colab": {
          "base_uri": "https://localhost:8080/"
        },
        "outputId": "b88af313-54b0-4dec-dac8-8fd68fe62be4"
      },
      "execution_count": 20,
      "outputs": [
        {
          "output_type": "stream",
          "name": "stdout",
          "text": [
            "Name: langchain\n",
            "Version: 0.2.12\n",
            "Summary: Building applications with LLMs through composability\n",
            "Home-page: https://github.com/langchain-ai/langchain\n",
            "Author: \n",
            "Author-email: \n",
            "License: MIT\n",
            "Location: /usr/local/lib/python3.10/dist-packages\n",
            "Requires: aiohttp, async-timeout, langchain-core, langchain-text-splitters, langsmith, numpy, pydantic, PyYAML, requests, SQLAlchemy, tenacity\n",
            "Required-by: langchain-community\n"
          ]
        }
      ]
    },
    {
      "cell_type": "markdown",
      "source": [
        "## CoT - Chain of thought Reasoning"
      ],
      "metadata": {
        "id": "NMlaxvgvZ2gl"
      }
    },
    {
      "cell_type": "code",
      "source": [
        "from langchain_openai.chat_models import ChatOpenAI"
      ],
      "metadata": {
        "id": "-lzO5PfUpwfv"
      },
      "execution_count": 21,
      "outputs": []
    },
    {
      "cell_type": "code",
      "source": [
        "llm = ChatOpenAI(model_name='gpt-4o-mini',\n",
        "             temperature=0,\n",
        "             max_tokens = 256)"
      ],
      "metadata": {
        "id": "sTiEn3tKp7mZ"
      },
      "execution_count": 22,
      "outputs": []
    },
    {
      "cell_type": "code",
      "source": [
        "text = \"Explain step by step. How old is the president of the United States?\"\n",
        "\n",
        "print(llm(text))"
      ],
      "metadata": {
        "colab": {
          "base_uri": "https://localhost:8080/"
        },
        "id": "dO3mxtaZaJk6",
        "outputId": "3e4703c8-87ae-46df-ecba-6b0bde95119a"
      },
      "execution_count": 23,
      "outputs": [
        {
          "output_type": "stream",
          "name": "stdout",
          "text": [
            "content='To determine the age of the President of the United States, you can follow these steps:\\n\\n1. **Identify the Current President**: As of October 2023, the President of the United States is Joe Biden.\\n\\n2. **Find the Birthdate**: Joe Biden was born on November 20, 1942.\\n\\n3. **Determine the Current Date**: The current date is October 2023.\\n\\n4. **Calculate the Age**:\\n   - Start with the current year (2023) and subtract the birth year (1942):\\n     \\\\[\\n     2023 - 1942 = 81\\n     \\\\]\\n   - Since the current date (October) is before his birthday (November), you need to subtract one year from the total:\\n     \\\\[\\n     81 - 1 = 80\\n     \\\\]\\n\\n5. **Conclusion**: As of October 2023, Joe Biden is 80 years old.\\n\\nIf you want to find the age of any future president, you would follow the same steps: identify the current president, find their birthdate, and calculate their age based on the current date.' response_metadata={'token_usage': {'completion_tokens': 232, 'prompt_tokens': 22, 'total_tokens': 254}, 'model_name': 'gpt-4o-mini-2024-07-18', 'system_fingerprint': 'fp_507c9469a1', 'finish_reason': 'stop', 'logprobs': None} id='run-8f69294a-f2ed-4aae-83ff-17c0392ca9c6-0' usage_metadata={'input_tokens': 22, 'output_tokens': 232, 'total_tokens': 254}\n"
          ]
        }
      ]
    },
    {
      "cell_type": "code",
      "source": [
        "text = \"How would I get from Singapore to San Francisco?\"\n",
        "\n",
        "print(llm(text))"
      ],
      "metadata": {
        "colab": {
          "base_uri": "https://localhost:8080/"
        },
        "id": "nYsujCiUb4b9",
        "outputId": "c15f7149-b4e2-4871-c311-a5f58e1eddf5"
      },
      "execution_count": 24,
      "outputs": [
        {
          "output_type": "stream",
          "name": "stdout",
          "text": [
            "content='To travel from Singapore to San Francisco, you would typically follow these steps:\\n\\n1. **Book a Flight**: The most common way to travel between Singapore and San Francisco is by air. Look for flights from Singapore Changi Airport (SIN) to San Francisco International Airport (SFO). Several airlines operate on this route, including Singapore Airlines, United Airlines, and others. You may find direct flights or flights with one or more layovers.\\n\\n2. **Check Visa Requirements**: Depending on your nationality, you may need a visa to enter the United States. Check the U.S. Department of State website for visa requirements and apply in advance if necessary.\\n\\n3. **Prepare for the Flight**: Ensure you have all necessary travel documents, including your passport, visa (if required), and any COVID-19 related documentation (if applicable). Arrive at the airport at least 2-3 hours before your flight.\\n\\n4. **Travel to the Airport**: Use public transportation, a taxi, or a rideshare service to get to Changi Airport.\\n\\n5. **Flight Duration**: The flight from Singapore to San Francisco typically takes around 14 to 17 hours, depending on layovers and flight paths.\\n\\n6. **Arrival in San Francisco**: Once you' response_metadata={'token_usage': {'completion_tokens': 256, 'prompt_tokens': 17, 'total_tokens': 273}, 'model_name': 'gpt-4o-mini-2024-07-18', 'system_fingerprint': 'fp_48196bc67a', 'finish_reason': 'length', 'logprobs': None} id='run-718a5e26-f3fa-468c-a35b-68e3ffca75bf-0' usage_metadata={'input_tokens': 17, 'output_tokens': 256, 'total_tokens': 273}\n"
          ]
        }
      ]
    },
    {
      "cell_type": "code",
      "source": [
        "text = \"Explain step by step. How would I get from Singapore to San Francisco?\"\n",
        "\n",
        "print(llm(text))"
      ],
      "metadata": {
        "colab": {
          "base_uri": "https://localhost:8080/"
        },
        "id": "Q_KYAnGcahJ2",
        "outputId": "eb832834-7b96-483c-aea5-b72c6ba96a37"
      },
      "execution_count": 25,
      "outputs": [
        {
          "output_type": "stream",
          "name": "stdout",
          "text": [
            "content='Traveling from Singapore to San Francisco involves several steps, including planning your trip, booking flights, and preparing for your arrival. Here’s a step-by-step guide:\\n\\n### Step 1: Research and Planning\\n1. **Check Travel Restrictions**: Before planning your trip, check for any travel restrictions or requirements due to health regulations, visas, or other factors.\\n2. **Decide on Travel Dates**: Determine when you want to travel. Consider factors like weather, events, and personal schedules.\\n\\n### Step 2: Book Your Flight\\n1. **Search for Flights**: Use flight comparison websites (like Google Flights, Skyscanner, or Kayak) to find available flights from Singapore (SIN) to San Francisco (SFO).\\n2. **Choose Your Flight**: Look for direct flights or flights with layovers. Direct flights are usually faster but may be more expensive.\\n3. **Compare Prices**: Check different airlines and booking platforms to find the best price.\\n4. **Book Your Ticket**: Once you find a suitable flight, proceed to book your ticket. Make sure to enter your details correctly and choose any additional services you may need (like baggage or seat selection).\\n\\n### Step 3: Prepare for Your Trip\\n1. **Check' response_metadata={'token_usage': {'completion_tokens': 256, 'prompt_tokens': 22, 'total_tokens': 278}, 'model_name': 'gpt-4o-mini-2024-07-18', 'system_fingerprint': 'fp_48196bc67a', 'finish_reason': 'length', 'logprobs': None} id='run-4ad2478f-b09e-410e-a952-dc61967a7754-0' usage_metadata={'input_tokens': 22, 'output_tokens': 256, 'total_tokens': 278}\n"
          ]
        }
      ]
    },
    {
      "cell_type": "markdown",
      "source": [
        "## Manual ReACT\n"
      ],
      "metadata": {
        "id": "oCeenN32cxLH"
      }
    },
    {
      "cell_type": "code",
      "source": [
        "question = \"How old is the president of the United States?\"\n",
        "\n",
        "manual_react = f\"\"\"Question: What is the elevation range for the area that the eastern sector of the Colorado orogeny extends into?\n",
        "Thought: I need to search Colorado orogeny, find the area that the eastern sector of the Colorado orogeny extends into, then find the elevation range of the area.\n",
        "Action: Search[Colorado orogeny]\n",
        "Observation: The Colorado orogeny was an episode of mountain building (an orogeny) in Colorado and surrounding areas.\n",
        "Thought: It does not mention the eastern sector. So I need to look up eastern sector.\n",
        "Action: Lookup[eastern sector]\n",
        "Observation: (Result 1 / 1) The eastern sector extends into the High Plains and is called the Central Plains orogeny.\n",
        "Thought: The eastern sector of Colorado orogeny extends into the High Plains. So I need to search High Plains and find its elevation range.\n",
        "Action: Search[High Plains]\n",
        "Observation: High Plains refers to one of two distinct land regions\n",
        "Thought: I need to instead search High Plains (United States).\n",
        "Action: Search[High Plains (United States)]\n",
        "Observation: The High Plains are a subregion of the Great Plains. From east to west, the High Plains rise in elevation from around 1,800 to 7,000 ft (550 to 2,130 m).[3]\n",
        "Thought: High Plains rise in elevation from around 1,800 to 7,000 ft, so the answer is 1,800 to 7,000 ft.\n",
        "Action: Finish[1,800 to 7,000 ft]\n",
        "\n",
        "Question: Musician and satirist Allie Goertz wrote a song about the \"The Simpsons\" character Milhouse, who Matt Groening named after who?\n",
        "Thought: The question simplifies to \"The Simpsons\" character Milhouse is named after who. I only need to search Milhouse and find who it is named after.\n",
        "Action: Search[Milhouse]\n",
        "Observation: Milhouse Mussolini Van Houten is a recurring character in the Fox animated television series The Simpsons voiced by Pamela Hayden and created by Matt Groening.\n",
        "Thought: The paragraph does not tell who Milhouse is named after, maybe I can look up \"named after\".\n",
        "Action: Lookup[named after]\n",
        "Observation: (Result 1 / 1) Milhouse was named after U.S. president Richard Nixon, whose middle name was Milhous.\n",
        "Thought: Milhouse was named after U.S. president Richard Nixon, so the answer is Richard Nixon.\n",
        "Action: Finish[Richard Nixon]\n",
        "\n",
        "Question: Which documentary is about Finnish rock groups, Adam Clayton Powell or The Saimaa Gesture?\n",
        "Thought: I need to search Adam Clayton Powell and The Saimaa Gesture, and find which documentary is about Finnish rock groups.\n",
        "Action: Search[Adam Clayton Powell]\n",
        "Observation: Could not find [Adam Clayton Powell]. Similar: [’Adam Clayton Powell III’, ’Seventh Avenue (Manhattan)’, ’Adam Clayton Powell Jr. State Office Building’, ’Isabel Washington Powell’, ’Adam Powell’, ’Adam Clayton Powell (film)’, ’Giancarlo Esposito’].\n",
        "Thought: To find the documentary, I can search Adam Clayton Powell (film).\n",
        "Action: Search[Adam Clayton Powell (film)]\n",
        "Observation: Adam Clayton Powell is a 1989 American documentary film directed by Richard Kilberg. The film is about the rise and fall of influential African-American politician Adam Clayton Powell Jr.[3][4] It was later aired as part of the PBS series The American Experience.\n",
        "Thought: Adam Clayton Powell (film) is a documentary about an African-American politician, not Finnish rock groups. So the documentary about Finnish rock groups must instead be The Saimaa Gesture.\n",
        "Action: Finish[The Saimaa Gesture]\n",
        "\n",
        "Question: What profession does Nicholas Ray and Elia Kazan have in common?\n",
        "Thought: I need to search Nicholas Ray and Elia Kazan, find their professions, then find the profession they have in common.\n",
        "Action: Search[Nicholas Ray]\n",
        "Observation: Nicholas Ray (born Raymond Nicholas Kienzle Jr., August 7, 1911 - June 16, 1979) was an American film director, screenwriter, and actor best known for the 1955 film Rebel Without a Cause.\n",
        "Thought: Professions of Nicholas Ray are director, screenwriter, and actor. I need to search Elia Kazan next and find his professions.\n",
        "Action: Search[Elia Kazan]\n",
        "Observation: Elia Kazan was an American film and theatre director, producer, screenwriter and actor.\n",
        "Thought: Professions of Elia Kazan are director, producer, screenwriter, and actor. So profession Nicholas Ray and Elia Kazan have in common is director, screenwriter, and actor.\n",
        "Action: Finish[director, screenwriter, actor]\n",
        "\n",
        "Question: Which magazine was started first Arthur’s Magazine or First for Women?\n",
        "Thought: I need to search Arthur’s Magazine and First for Women, and find which was started first.\n",
        "Action: Search[Arthur’s Magazine]\n",
        "Observation: Arthur’s Magazine (1844-1846) was an American literary periodical published in Philadelphia in the 19th century.\n",
        "Thought: Arthur’s Magazine was started in 1844. I need to search First for Women next.\n",
        "Action: Search[First for Women]\n",
        "Observation: First for Women is a woman’s magazine published by Bauer Media Group in the USA.[1] The magazine was started in 1989.\n",
        "Thought: First for Women was started in 1989. 1844 (Arthur’s Magazine) < 1989 (First for Women), so Arthur’s Magazine was started first.\n",
        "Action: Finish[Arthur’s Magazine]\n",
        "\n",
        "Question:{question}\"\"\""
      ],
      "metadata": {
        "id": "JWUsha-Mc0pn"
      },
      "execution_count": 26,
      "outputs": []
    },
    {
      "cell_type": "code",
      "source": [
        "print(llm(manual_react))"
      ],
      "metadata": {
        "colab": {
          "base_uri": "https://localhost:8080/"
        },
        "id": "Z87JdRqudKQr",
        "outputId": "d4eed6a0-aa72-4532-b424-5bbfe9c1fa5c"
      },
      "execution_count": 17,
      "outputs": [
        {
          "output_type": "stream",
          "name": "stdout",
          "text": [
            "content='To determine the age of the current president of the United States, I would need to know who the current president is and their birthdate. As of my last knowledge update in October 2023, Joe Biden is the president, born on November 20, 1942. \\n\\nTo calculate his age as of today (assuming today is October 2023), you would subtract his birth year from the current year:\\n\\n2023 - 1942 = 81 years old.\\n\\nHowever, since his birthday is in November, he has not yet turned 81 this year, so he is currently 80 years old. \\n\\nAction: Finish[80 years old]' response_metadata={'token_usage': {'completion_tokens': 133, 'prompt_tokens': 1163, 'total_tokens': 1296}, 'model_name': 'gpt-4o-mini-2024-07-18', 'system_fingerprint': 'fp_48196bc67a', 'finish_reason': 'stop', 'logprobs': None} id='run-b2487b19-30b4-4368-aad1-435e47130d3a-0' usage_metadata={'input_tokens': 1163, 'output_tokens': 133, 'total_tokens': 1296}\n"
          ]
        }
      ]
    },
    {
      "cell_type": "markdown",
      "source": [
        "## ReACT\n",
        "\n",
        "“REACT: SYNERGIZING REASONING AND ACTING IN LANGUAGE MODELS” (Shunyu et al., 2022)"
      ],
      "metadata": {
        "id": "HqwsGJDhvAQ5"
      }
    },
    {
      "cell_type": "code",
      "source": [
        "from langchain.prompts import PromptTemplate\n",
        "\n",
        "template = \"\"\"\n",
        "    Answer the following questions as best you can. You have access to the following tools:\n",
        "\n",
        "    {tools}\n",
        "\n",
        "    Use the following format:\n",
        "\n",
        "    Question: {input}\n",
        "    Thought: Consider what information is needed and how to obtain it.\n",
        "    Action: Choose one of the following actions [{tool_names}]\n",
        "    Action Input: Provide the necessary input for the chosen action\n",
        "    Observation: Record the result of the action\n",
        "\n",
        "    Final Answer: {agent_scratchpad}\n",
        "\"\"\"\n",
        "prompt_template =  PromptTemplate(\n",
        "    input_variables=[\"input\", \"tool_names\", \"tools\", \"agent_scratchpad\"],\n",
        "    template=template,\n",
        ")"
      ],
      "metadata": {
        "id": "f9kGFO6hOF2y"
      },
      "execution_count": 46,
      "outputs": []
    },
    {
      "cell_type": "code",
      "source": [
        "from langchain import Wikipedia\n",
        "from langchain.agents import create_react_agent, Tool\n",
        "from langchain.agents import AgentType, AgentExecutor\n",
        "from langchain.agents.react.base import DocstoreExplorer\n",
        "from datetime import datetime"
      ],
      "metadata": {
        "id": "w57zXznuNcB6"
      },
      "execution_count": 47,
      "outputs": []
    },
    {
      "cell_type": "code",
      "source": [
        "docstore=DocstoreExplorer(Wikipedia())\n",
        "\n",
        "# Define the DateTime tool\n",
        "date_time_tool = Tool(\n",
        "    name=\"DateTime\",\n",
        "    func=lambda _: datetime.now().date(),\n",
        "    description=\"Useful for getting the current date and time\"\n",
        ")\n",
        "\n",
        "tools = [\n",
        "    Tool(\n",
        "        name=\"Search\",\n",
        "        func=docstore.search,\n",
        "        description=\"useful for when you need to ask with search\"\n",
        "    ),\n",
        "    Tool(\n",
        "        name=\"Lookup\",\n",
        "        func=docstore.lookup,\n",
        "        description=\"useful for when you need to ask with lookup\"\n",
        "    ),\n",
        "    date_time_tool\n",
        "]\n",
        "\n",
        "agent = create_react_agent(\n",
        "    llm=llm,\n",
        "    tools=tools,\n",
        "    prompt=prompt_template\n",
        ")\n",
        "\n",
        "# Initialize the agent executor\n",
        "agent_executor = AgentExecutor(agent=agent, tools=tools, verbose=True, handle_parsing_errors=True, max_iterations=5, return_intermediate_steps=True)"
      ],
      "metadata": {
        "id": "IfCt8bhHNu9u"
      },
      "execution_count": 48,
      "outputs": []
    },
    {
      "cell_type": "code",
      "source": [
        "question = \"How old is the president of the United States?\"\n",
        "response = agent_executor.invoke({\"input\": question})\n",
        "print(response)"
      ],
      "metadata": {
        "colab": {
          "base_uri": "https://localhost:8080/"
        },
        "id": "ONDjJgDFNhsk",
        "outputId": "890892e8-746d-4fb0-fe91-ad725f99f7ca"
      },
      "execution_count": 49,
      "outputs": [
        {
          "output_type": "stream",
          "name": "stdout",
          "text": [
            "\n",
            "\n",
            "\u001b[1m> Entering new AgentExecutor chain...\u001b[0m\n",
            "\u001b[32;1m\u001b[1;3mQuestion: How old is the president of the United States?  \n",
            "Thought: I need to find out who the current president is and their date of birth to calculate their age.  \n",
            "Action: Search  \n",
            "Action Input: 'current president of the United States'  \u001b[0m\u001b[36;1m\u001b[1;3mThe president of the United States (POTUS) is the head of state and head of government of the United States of America. The president directs the executive branch of the federal government and is the commander-in-chief of the United States Armed Forces.\n",
            "The power of the presidency has grown substantially since the first president, George Washington, took office in 1789. While presidential power has ebbed and flowed over time, the presidency has played an increasingly significant role in American political life since the beginning of the 20th century, carrying over into the 21st century with notable expansions during the presidencies of Franklin D. Roosevelt and George W. Bush. In modern times, the president is one of the world's most powerful political figures and the leader of the world's only remaining superpower. As the leader of the nation with the largest economy by nominal GDP, the president possesses significant domestic and international hard and soft power. For much of the 20th century, especially during the Cold War, the U.S. president was often called \"the leader of the free world\".\n",
            "Article II of the Constitution establishes the executive branch of the federal government and vests executive power in the president. The power includes the execution and enforcement of federal law and the responsibility to appoint federal executive, diplomatic, regulatory, and judicial officers.  Based on constitutional provisions empowering the president to appoint and receive ambassadors and conclude treaties with foreign powers, and on subsequent laws enacted by Congress, the modern presidency has primary responsibility for conducting U.S. foreign policy. The role includes responsibility for directing the world's most expensive military, which has the second-largest nuclear arsenal.\n",
            "The president also plays a leading role in federal legislation and domestic policymaking. As part of the system of separation of powers, Article I, Section 7 of the Constitution gives the president the power to sign or veto federal legislation. Since modern presidents are typically viewed as leaders of their political parties, major policymaking is significantly shaped by the outcome of presidential elections, with presidents taking an active role in promoting their policy priorities to members of Congress who are often electorally dependent on the president. In recent decades, presidents have also made increasing use of executive orders, agency regulations, and judicial appointments to shape domestic policy.\n",
            "The president is elected indirectly through the Electoral College to a four-year term, along with the vice president. Under the Twenty-second Amendment, ratified in 1951, no person who has been elected to two presidential terms may be elected to a third. In addition, nine vice presidents have become president by virtue of a president's intra-term death or resignation. In all, 45 individuals have served 46 presidencies spanning 58 four-year terms. Joe Biden is the 46th and current president, having assumed office on January 20, 2021.\u001b[0m\u001b[32;1m\u001b[1;3mI need to find Joe Biden's date of birth to calculate his age.  \n",
            "Action: Search  \n",
            "Action Input: 'Joe Biden date of birth'  \u001b[0m\u001b[36;1m\u001b[1;3mJoseph Robinette Biden Jr. (born November 20, 1942) is an American politician who is the 46th and current president of the United States since 2021. A member of the Democratic Party, he served as the 47th vice president from 2009 to 2017 under President Barack Obama and represented Delaware in the U.S. Senate from 1973 to 2009.\n",
            "Born in Scranton, Pennsylvania, Biden moved with his family to Delaware in 1953. He graduated from the University of Delaware in 1965 before earning his law degree from Syracuse University in 1968. He was elected to the New Castle County Council in 1970 and the U.S. Senate in 1972, as one of the youngest Senators in history. As a senator, Biden drafted and led the effort to pass the Violent Crime Control and Law Enforcement Act and the Violence Against Women Act. He also oversaw six U.S. Supreme Court confirmation hearings, including the contentious hearings for Robert Bork and Clarence Thomas. Biden ran unsuccessfully for the 1988 and 2008 Democratic presidential nominations. In 2008, Obama chose Biden as his running mate, and he was a close counselor to Obama during his two terms as vice president. In the 2020 presidential election, the Democratic Party nominated Biden for president. He selected Kamala Harris as his running mate and defeated Republican incumbent Donald Trump. He is the oldest president in U.S. history and the first to have a female vice president. \n",
            "As president, Biden signed the American Rescue Plan Act in response to the COVID-19 pandemic and subsequent recession. He signed bipartisan bills on infrastructure and manufacturing. He proposed the Build Back Better Act, which failed in Congress, but aspects of which were incorporated into the Inflation Reduction Act that he signed into law in 2022. Biden appointed Ketanji Brown Jackson to the Supreme Court. He worked with congressional Republicans to resolve the 2023 debt-ceiling crisis by negotiating a deal to raise the debt ceiling. In foreign policy, Biden restored America's membership in the Paris Agreement. He oversaw the complete withdrawal of U.S. troops from Afghanistan that ended the war in Afghanistan, leading to the collapse of the Afghan government and the Taliban seizing control. He responded to the Russian invasion of Ukraine by imposing sanctions on Russia and authorizing civilian and military aid to Ukraine. During the Israel–Hamas war, Biden condemned the actions of Hamas as terrorism, announced military support for Israel and sent limited humanitarian aid to the Gaza Strip.\n",
            "In April 2023, Biden announced his reelection campaign and, after the Democratic primaries, became the party's presumptive nominee in the 2024 presidential election. However, he withdrew his candidacy in July 2024 after a series of age and health concerns, becoming the first president to decline to seek reelection after securing enough delegates to win renomination. He endorsed Vice President Harris to succeed him, while saying that he would remain in office as president until the conclusion of his term.\u001b[0m\u001b[32;1m\u001b[1;3mTo calculate Joe Biden's age, I need to determine the current date and then subtract his birth date from it.  \n",
            "Action: DateTime  \n",
            "Action Input: None  \u001b[0m\u001b[38;5;200m\u001b[1;3m2024-08-06\u001b[0m\u001b[32;1m\u001b[1;3mTo calculate Joe Biden's age, I will subtract his birth date (November 20, 1942) from the current date (August 6, 2024).\n",
            "\n",
            "1. From November 20, 1942, to November 20, 2023, Joe Biden turned 81 years old.\n",
            "2. From November 20, 2023, to August 6, 2024, is not a full year, so he remains 81 years old.\n",
            "\n",
            "Final Answer: Question: How old is the president of the United States?  \n",
            "Joe Biden is currently 81 years old.\u001b[0m\n",
            "\n",
            "\u001b[1m> Finished chain.\u001b[0m\n",
            "{'input': 'How old is the president of the United States?', 'output': 'Question: How old is the president of the United States?  \\nJoe Biden is currently 81 years old.', 'intermediate_steps': [(AgentAction(tool='Search', tool_input=\"'current president of the United States'\", log=\"Question: How old is the president of the United States?  \\nThought: I need to find out who the current president is and their date of birth to calculate their age.  \\nAction: Search  \\nAction Input: 'current president of the United States'  \"), 'The president of the United States (POTUS) is the head of state and head of government of the United States of America. The president directs the executive branch of the federal government and is the commander-in-chief of the United States Armed Forces.\\nThe power of the presidency has grown substantially since the first president, George Washington, took office in 1789. While presidential power has ebbed and flowed over time, the presidency has played an increasingly significant role in American political life since the beginning of the 20th century, carrying over into the 21st century with notable expansions during the presidencies of Franklin D. Roosevelt and George W. Bush. In modern times, the president is one of the world\\'s most powerful political figures and the leader of the world\\'s only remaining superpower. As the leader of the nation with the largest economy by nominal GDP, the president possesses significant domestic and international hard and soft power. For much of the 20th century, especially during the Cold War, the U.S. president was often called \"the leader of the free world\".\\nArticle II of the Constitution establishes the executive branch of the federal government and vests executive power in the president. The power includes the execution and enforcement of federal law and the responsibility to appoint federal executive, diplomatic, regulatory, and judicial officers.  Based on constitutional provisions empowering the president to appoint and receive ambassadors and conclude treaties with foreign powers, and on subsequent laws enacted by Congress, the modern presidency has primary responsibility for conducting U.S. foreign policy. The role includes responsibility for directing the world\\'s most expensive military, which has the second-largest nuclear arsenal.\\nThe president also plays a leading role in federal legislation and domestic policymaking. As part of the system of separation of powers, Article I, Section 7 of the Constitution gives the president the power to sign or veto federal legislation. Since modern presidents are typically viewed as leaders of their political parties, major policymaking is significantly shaped by the outcome of presidential elections, with presidents taking an active role in promoting their policy priorities to members of Congress who are often electorally dependent on the president. In recent decades, presidents have also made increasing use of executive orders, agency regulations, and judicial appointments to shape domestic policy.\\nThe president is elected indirectly through the Electoral College to a four-year term, along with the vice president. Under the Twenty-second Amendment, ratified in 1951, no person who has been elected to two presidential terms may be elected to a third. In addition, nine vice presidents have become president by virtue of a president\\'s intra-term death or resignation. In all, 45 individuals have served 46 presidencies spanning 58 four-year terms. Joe Biden is the 46th and current president, having assumed office on January 20, 2021.'), (AgentAction(tool='Search', tool_input=\"'Joe Biden date of birth'\", log=\"I need to find Joe Biden's date of birth to calculate his age.  \\nAction: Search  \\nAction Input: 'Joe Biden date of birth'  \"), \"Joseph Robinette Biden Jr. (born November 20, 1942) is an American politician who is the 46th and current president of the United States since 2021. A member of the Democratic Party, he served as the 47th vice president from 2009 to 2017 under President Barack Obama and represented Delaware in the U.S. Senate from 1973 to 2009.\\nBorn in Scranton, Pennsylvania, Biden moved with his family to Delaware in 1953. He graduated from the University of Delaware in 1965 before earning his law degree from Syracuse University in 1968. He was elected to the New Castle County Council in 1970 and the U.S. Senate in 1972, as one of the youngest Senators in history. As a senator, Biden drafted and led the effort to pass the Violent Crime Control and Law Enforcement Act and the Violence Against Women Act. He also oversaw six U.S. Supreme Court confirmation hearings, including the contentious hearings for Robert Bork and Clarence Thomas. Biden ran unsuccessfully for the 1988 and 2008 Democratic presidential nominations. In 2008, Obama chose Biden as his running mate, and he was a close counselor to Obama during his two terms as vice president. In the 2020 presidential election, the Democratic Party nominated Biden for president. He selected Kamala Harris as his running mate and defeated Republican incumbent Donald Trump. He is the oldest president in U.S. history and the first to have a female vice president. \\nAs president, Biden signed the American Rescue Plan Act in response to the COVID-19 pandemic and subsequent recession. He signed bipartisan bills on infrastructure and manufacturing. He proposed the Build Back Better Act, which failed in Congress, but aspects of which were incorporated into the Inflation Reduction Act that he signed into law in 2022. Biden appointed Ketanji Brown Jackson to the Supreme Court. He worked with congressional Republicans to resolve the 2023 debt-ceiling crisis by negotiating a deal to raise the debt ceiling. In foreign policy, Biden restored America's membership in the Paris Agreement. He oversaw the complete withdrawal of U.S. troops from Afghanistan that ended the war in Afghanistan, leading to the collapse of the Afghan government and the Taliban seizing control. He responded to the Russian invasion of Ukraine by imposing sanctions on Russia and authorizing civilian and military aid to Ukraine. During the Israel–Hamas war, Biden condemned the actions of Hamas as terrorism, announced military support for Israel and sent limited humanitarian aid to the Gaza Strip.\\nIn April 2023, Biden announced his reelection campaign and, after the Democratic primaries, became the party's presumptive nominee in the 2024 presidential election. However, he withdrew his candidacy in July 2024 after a series of age and health concerns, becoming the first president to decline to seek reelection after securing enough delegates to win renomination. He endorsed Vice President Harris to succeed him, while saying that he would remain in office as president until the conclusion of his term.\"), (AgentAction(tool='DateTime', tool_input='None', log=\"To calculate Joe Biden's age, I need to determine the current date and then subtract his birth date from it.  \\nAction: DateTime  \\nAction Input: None  \"), datetime.date(2024, 8, 6))]}\n"
          ]
        }
      ]
    },
    {
      "cell_type": "code",
      "source": [
        "question = \"How old will the president of the United States be in June 2023?\"\n",
        "response = agent_executor.invoke({\"input\": question})\n",
        "print(response)"
      ],
      "metadata": {
        "colab": {
          "base_uri": "https://localhost:8080/"
        },
        "id": "kO8tScjjdqN_",
        "outputId": "eaf47d82-6d46-40b9-8363-9b04eccc1ce3"
      },
      "execution_count": 50,
      "outputs": [
        {
          "output_type": "stream",
          "name": "stdout",
          "text": [
            "\n",
            "\n",
            "\u001b[1m> Entering new AgentExecutor chain...\u001b[0m\n",
            "\u001b[32;1m\u001b[1;3mQuestion: How old will the president of the United States be in June 2023?  \n",
            "Thought: I need to know who the president of the United States is and their date of birth to calculate their age in June 2023.  \n",
            "Action: Search  \n",
            "Action Input: \"current president of the United States\"  \u001b[0m\u001b[36;1m\u001b[1;3mThe president of the United States (POTUS) is the head of state and head of government of the United States of America. The president directs the executive branch of the federal government and is the commander-in-chief of the United States Armed Forces.\n",
            "The power of the presidency has grown substantially since the first president, George Washington, took office in 1789. While presidential power has ebbed and flowed over time, the presidency has played an increasingly significant role in American political life since the beginning of the 20th century, carrying over into the 21st century with notable expansions during the presidencies of Franklin D. Roosevelt and George W. Bush. In modern times, the president is one of the world's most powerful political figures and the leader of the world's only remaining superpower. As the leader of the nation with the largest economy by nominal GDP, the president possesses significant domestic and international hard and soft power. For much of the 20th century, especially during the Cold War, the U.S. president was often called \"the leader of the free world\".\n",
            "Article II of the Constitution establishes the executive branch of the federal government and vests executive power in the president. The power includes the execution and enforcement of federal law and the responsibility to appoint federal executive, diplomatic, regulatory, and judicial officers.  Based on constitutional provisions empowering the president to appoint and receive ambassadors and conclude treaties with foreign powers, and on subsequent laws enacted by Congress, the modern presidency has primary responsibility for conducting U.S. foreign policy. The role includes responsibility for directing the world's most expensive military, which has the second-largest nuclear arsenal.\n",
            "The president also plays a leading role in federal legislation and domestic policymaking. As part of the system of separation of powers, Article I, Section 7 of the Constitution gives the president the power to sign or veto federal legislation. Since modern presidents are typically viewed as leaders of their political parties, major policymaking is significantly shaped by the outcome of presidential elections, with presidents taking an active role in promoting their policy priorities to members of Congress who are often electorally dependent on the president. In recent decades, presidents have also made increasing use of executive orders, agency regulations, and judicial appointments to shape domestic policy.\n",
            "The president is elected indirectly through the Electoral College to a four-year term, along with the vice president. Under the Twenty-second Amendment, ratified in 1951, no person who has been elected to two presidential terms may be elected to a third. In addition, nine vice presidents have become president by virtue of a president's intra-term death or resignation. In all, 45 individuals have served 46 presidencies spanning 58 four-year terms. Joe Biden is the 46th and current president, having assumed office on January 20, 2021.\u001b[0m\u001b[32;1m\u001b[1;3mI now know that Joe Biden is the current president of the United States. Next, I need to find out his date of birth to calculate his age in June 2023.  \n",
            "Action: Search  \n",
            "Action Input: \"Joe Biden date of birth\"  \u001b[0m\u001b[36;1m\u001b[1;3mJoseph Robinette Biden Jr. (born November 20, 1942) is an American politician who is the 46th and current president of the United States since 2021. A member of the Democratic Party, he served as the 47th vice president from 2009 to 2017 under President Barack Obama and represented Delaware in the U.S. Senate from 1973 to 2009.\n",
            "Born in Scranton, Pennsylvania, Biden moved with his family to Delaware in 1953. He graduated from the University of Delaware in 1965 before earning his law degree from Syracuse University in 1968. He was elected to the New Castle County Council in 1970 and the U.S. Senate in 1972, as one of the youngest Senators in history. As a senator, Biden drafted and led the effort to pass the Violent Crime Control and Law Enforcement Act and the Violence Against Women Act. He also oversaw six U.S. Supreme Court confirmation hearings, including the contentious hearings for Robert Bork and Clarence Thomas. Biden ran unsuccessfully for the 1988 and 2008 Democratic presidential nominations. In 2008, Obama chose Biden as his running mate, and he was a close counselor to Obama during his two terms as vice president. In the 2020 presidential election, the Democratic Party nominated Biden for president. He selected Kamala Harris as his running mate and defeated Republican incumbent Donald Trump. He is the oldest president in U.S. history and the first to have a female vice president. \n",
            "As president, Biden signed the American Rescue Plan Act in response to the COVID-19 pandemic and subsequent recession. He signed bipartisan bills on infrastructure and manufacturing. He proposed the Build Back Better Act, which failed in Congress, but aspects of which were incorporated into the Inflation Reduction Act that he signed into law in 2022. Biden appointed Ketanji Brown Jackson to the Supreme Court. He worked with congressional Republicans to resolve the 2023 debt-ceiling crisis by negotiating a deal to raise the debt ceiling. In foreign policy, Biden restored America's membership in the Paris Agreement. He oversaw the complete withdrawal of U.S. troops from Afghanistan that ended the war in Afghanistan, leading to the collapse of the Afghan government and the Taliban seizing control. He responded to the Russian invasion of Ukraine by imposing sanctions on Russia and authorizing civilian and military aid to Ukraine. During the Israel–Hamas war, Biden condemned the actions of Hamas as terrorism, announced military support for Israel and sent limited humanitarian aid to the Gaza Strip.\n",
            "In April 2023, Biden announced his reelection campaign and, after the Democratic primaries, became the party's presumptive nominee in the 2024 presidential election. However, he withdrew his candidacy in July 2024 after a series of age and health concerns, becoming the first president to decline to seek reelection after securing enough delegates to win renomination. He endorsed Vice President Harris to succeed him, while saying that he would remain in office as president until the conclusion of his term.\u001b[0m\u001b[32;1m\u001b[1;3mI now have Joe Biden's date of birth, which is November 20, 1942. To calculate his age in June 2023, I will subtract his birth year from 2023 and account for whether he has had his birthday yet that year. Since June is before November, he will not have turned 81 yet in June 2023.\n",
            "\n",
            "Final Answer: Joe Biden will be 80 years old in June 2023.\u001b[0m\n",
            "\n",
            "\u001b[1m> Finished chain.\u001b[0m\n",
            "{'input': 'How old will the president of the United States be in June 2023?', 'output': 'Joe Biden will be 80 years old in June 2023.', 'intermediate_steps': [(AgentAction(tool='Search', tool_input='current president of the United States', log='Question: How old will the president of the United States be in June 2023?  \\nThought: I need to know who the president of the United States is and their date of birth to calculate their age in June 2023.  \\nAction: Search  \\nAction Input: \"current president of the United States\"  '), 'The president of the United States (POTUS) is the head of state and head of government of the United States of America. The president directs the executive branch of the federal government and is the commander-in-chief of the United States Armed Forces.\\nThe power of the presidency has grown substantially since the first president, George Washington, took office in 1789. While presidential power has ebbed and flowed over time, the presidency has played an increasingly significant role in American political life since the beginning of the 20th century, carrying over into the 21st century with notable expansions during the presidencies of Franklin D. Roosevelt and George W. Bush. In modern times, the president is one of the world\\'s most powerful political figures and the leader of the world\\'s only remaining superpower. As the leader of the nation with the largest economy by nominal GDP, the president possesses significant domestic and international hard and soft power. For much of the 20th century, especially during the Cold War, the U.S. president was often called \"the leader of the free world\".\\nArticle II of the Constitution establishes the executive branch of the federal government and vests executive power in the president. The power includes the execution and enforcement of federal law and the responsibility to appoint federal executive, diplomatic, regulatory, and judicial officers.  Based on constitutional provisions empowering the president to appoint and receive ambassadors and conclude treaties with foreign powers, and on subsequent laws enacted by Congress, the modern presidency has primary responsibility for conducting U.S. foreign policy. The role includes responsibility for directing the world\\'s most expensive military, which has the second-largest nuclear arsenal.\\nThe president also plays a leading role in federal legislation and domestic policymaking. As part of the system of separation of powers, Article I, Section 7 of the Constitution gives the president the power to sign or veto federal legislation. Since modern presidents are typically viewed as leaders of their political parties, major policymaking is significantly shaped by the outcome of presidential elections, with presidents taking an active role in promoting their policy priorities to members of Congress who are often electorally dependent on the president. In recent decades, presidents have also made increasing use of executive orders, agency regulations, and judicial appointments to shape domestic policy.\\nThe president is elected indirectly through the Electoral College to a four-year term, along with the vice president. Under the Twenty-second Amendment, ratified in 1951, no person who has been elected to two presidential terms may be elected to a third. In addition, nine vice presidents have become president by virtue of a president\\'s intra-term death or resignation. In all, 45 individuals have served 46 presidencies spanning 58 four-year terms. Joe Biden is the 46th and current president, having assumed office on January 20, 2021.'), (AgentAction(tool='Search', tool_input='Joe Biden date of birth', log='I now know that Joe Biden is the current president of the United States. Next, I need to find out his date of birth to calculate his age in June 2023.  \\nAction: Search  \\nAction Input: \"Joe Biden date of birth\"  '), \"Joseph Robinette Biden Jr. (born November 20, 1942) is an American politician who is the 46th and current president of the United States since 2021. A member of the Democratic Party, he served as the 47th vice president from 2009 to 2017 under President Barack Obama and represented Delaware in the U.S. Senate from 1973 to 2009.\\nBorn in Scranton, Pennsylvania, Biden moved with his family to Delaware in 1953. He graduated from the University of Delaware in 1965 before earning his law degree from Syracuse University in 1968. He was elected to the New Castle County Council in 1970 and the U.S. Senate in 1972, as one of the youngest Senators in history. As a senator, Biden drafted and led the effort to pass the Violent Crime Control and Law Enforcement Act and the Violence Against Women Act. He also oversaw six U.S. Supreme Court confirmation hearings, including the contentious hearings for Robert Bork and Clarence Thomas. Biden ran unsuccessfully for the 1988 and 2008 Democratic presidential nominations. In 2008, Obama chose Biden as his running mate, and he was a close counselor to Obama during his two terms as vice president. In the 2020 presidential election, the Democratic Party nominated Biden for president. He selected Kamala Harris as his running mate and defeated Republican incumbent Donald Trump. He is the oldest president in U.S. history and the first to have a female vice president. \\nAs president, Biden signed the American Rescue Plan Act in response to the COVID-19 pandemic and subsequent recession. He signed bipartisan bills on infrastructure and manufacturing. He proposed the Build Back Better Act, which failed in Congress, but aspects of which were incorporated into the Inflation Reduction Act that he signed into law in 2022. Biden appointed Ketanji Brown Jackson to the Supreme Court. He worked with congressional Republicans to resolve the 2023 debt-ceiling crisis by negotiating a deal to raise the debt ceiling. In foreign policy, Biden restored America's membership in the Paris Agreement. He oversaw the complete withdrawal of U.S. troops from Afghanistan that ended the war in Afghanistan, leading to the collapse of the Afghan government and the Taliban seizing control. He responded to the Russian invasion of Ukraine by imposing sanctions on Russia and authorizing civilian and military aid to Ukraine. During the Israel–Hamas war, Biden condemned the actions of Hamas as terrorism, announced military support for Israel and sent limited humanitarian aid to the Gaza Strip.\\nIn April 2023, Biden announced his reelection campaign and, after the Democratic primaries, became the party's presumptive nominee in the 2024 presidential election. However, he withdrew his candidacy in July 2024 after a series of age and health concerns, becoming the first president to decline to seek reelection after securing enough delegates to win renomination. He endorsed Vice President Harris to succeed him, while saying that he would remain in office as president until the conclusion of his term.\")]}\n"
          ]
        }
      ]
    },
    {
      "cell_type": "markdown",
      "source": [
        "#### Let pull apart the Chain"
      ],
      "metadata": {
        "id": "9T_R9aYAPUAf"
      }
    },
    {
      "cell_type": "code",
      "source": [
        "# multi hop example\n",
        "question = \"What is the first film that Russell Crowe won an Oscar for, and who directed that movie?\"\n",
        "response = agent_executor.invoke({\"input\": question})\n",
        "print(response)"
      ],
      "metadata": {
        "colab": {
          "base_uri": "https://localhost:8080/"
        },
        "id": "cMd36OAYnCG_",
        "outputId": "cbc0895c-9cc4-42d1-c98c-bad3a2edb00c"
      },
      "execution_count": 51,
      "outputs": [
        {
          "output_type": "stream",
          "name": "stdout",
          "text": [
            "\n",
            "\n",
            "\u001b[1m> Entering new AgentExecutor chain...\u001b[0m\n",
            "\u001b[32;1m\u001b[1;3mQuestion: What is the first film that Russell Crowe won an Oscar for, and who directed that movie?  \n",
            "Thought: I need to find out which film Russell Crowe won his first Oscar for and the director of that film.  \n",
            "Action: Search  \n",
            "Action Input: 'first film Russell Crowe won Oscar for'  \u001b[0m\u001b[36;1m\u001b[1;3mThe Insider is a 1999 American biographical drama film directed by Michael Mann, from a screenplay adapted by Eric Roth and Mann based on Marie Brenner's 1996 Vanity Fair article \"The Man Who Knew Too Much\". The film stars Al Pacino, Russell Crowe, Christopher Plummer, Bruce McGill, Diane Venora, and Michael Gambon.\n",
            "A fictionalized account of a true story, it centers on the controversial 60 Minutes segment about Jeffrey Wigand, a whistleblower in the tobacco industry, covering his and CBS producer Lowell Bergman's struggles as they defend his testimony against efforts to discredit and suppress it by CBS and Wigand's former employer.\n",
            "Though not a box office success, The Insider received acclaim from critics, who praised Crowe's portrayal of Wigand, and Mann's direction. It was nominated for seven Academy Awards, including Best Picture and Best Actor in a Leading Role (for Russell Crowe).\u001b[0m\u001b[32;1m\u001b[1;3mI need to confirm the specific film for which Russell Crowe won his first Oscar and identify the director of that film. \n",
            "\n",
            "Action: Search  \n",
            "Action Input: 'Russell Crowe first Oscar win film and director'  \u001b[0m\u001b[36;1m\u001b[1;3mGladiator is a 2000 historical epic film directed by Ridley Scott and written by David Franzoni, John Logan, and William Nicholson. It stars Russell Crowe, Joaquin Phoenix, Connie Nielsen, Oliver Reed, Richard Harris, Derek Jacobi, and Djimon Hounsou.\n",
            "Crowe portrays the Roman general Maximus Decimus Meridius, who is betrayed when Commodus, the ambitious son of Emperor Marcus Aurelius, murders his father and seizes the throne. Reduced to slavery, Maximus becomes a gladiator and rises through the ranks of the arena, determined to avenge the murders of his family and the emperor.\n",
            "The screenplay, initially written by Franzoni, was inspired by the 1958 Daniel P. Mannix novel Those About to Die. The script was acquired by DreamWorks Pictures, and Scott signed on to direct the film. Principal photography began in January 1999 and wrapped in May of that year. Production was complicated by the script being rewritten multiple times and by the death of Oliver Reed before production was finished.\n",
            "Gladiator grossed $465.4 million worldwide, becoming the second highest-grossing film of 2000. Critics praised the acting, directing, cinematography, production design, and musical score. The film won five Academy Awards, including Best Picture and Best Actor for Crowe. A sequel, titled Gladiator II, is scheduled to be released in the United States on November 15, 2024.\u001b[0m\u001b[32;1m\u001b[1;3mI have gathered the necessary information regarding Russell Crowe's first Oscar win and the director of that film.\n",
            "\n",
            "Final Answer: Question: What is the first film that Russell Crowe won an Oscar for, and who directed that movie?  \n",
            "Russell Crowe won his first Oscar for the film \"Gladiator,\" which was directed by Ridley Scott.\u001b[0m\n",
            "\n",
            "\u001b[1m> Finished chain.\u001b[0m\n",
            "{'input': 'What is the first film that Russell Crowe won an Oscar for, and who directed that movie?', 'output': 'Question: What is the first film that Russell Crowe won an Oscar for, and who directed that movie?  \\nRussell Crowe won his first Oscar for the film \"Gladiator,\" which was directed by Ridley Scott.', 'intermediate_steps': [(AgentAction(tool='Search', tool_input=\"'first film Russell Crowe won Oscar for'\", log=\"Question: What is the first film that Russell Crowe won an Oscar for, and who directed that movie?  \\nThought: I need to find out which film Russell Crowe won his first Oscar for and the director of that film.  \\nAction: Search  \\nAction Input: 'first film Russell Crowe won Oscar for'  \"), 'The Insider is a 1999 American biographical drama film directed by Michael Mann, from a screenplay adapted by Eric Roth and Mann based on Marie Brenner\\'s 1996 Vanity Fair article \"The Man Who Knew Too Much\". The film stars Al Pacino, Russell Crowe, Christopher Plummer, Bruce McGill, Diane Venora, and Michael Gambon.\\nA fictionalized account of a true story, it centers on the controversial 60 Minutes segment about Jeffrey Wigand, a whistleblower in the tobacco industry, covering his and CBS producer Lowell Bergman\\'s struggles as they defend his testimony against efforts to discredit and suppress it by CBS and Wigand\\'s former employer.\\nThough not a box office success, The Insider received acclaim from critics, who praised Crowe\\'s portrayal of Wigand, and Mann\\'s direction. It was nominated for seven Academy Awards, including Best Picture and Best Actor in a Leading Role (for Russell Crowe).'), (AgentAction(tool='Search', tool_input=\"'Russell Crowe first Oscar win film and director'\", log=\"I need to confirm the specific film for which Russell Crowe won his first Oscar and identify the director of that film. \\n\\nAction: Search  \\nAction Input: 'Russell Crowe first Oscar win film and director'  \"), 'Gladiator is a 2000 historical epic film directed by Ridley Scott and written by David Franzoni, John Logan, and William Nicholson. It stars Russell Crowe, Joaquin Phoenix, Connie Nielsen, Oliver Reed, Richard Harris, Derek Jacobi, and Djimon Hounsou.\\nCrowe portrays the Roman general Maximus Decimus Meridius, who is betrayed when Commodus, the ambitious son of Emperor Marcus Aurelius, murders his father and seizes the throne. Reduced to slavery, Maximus becomes a gladiator and rises through the ranks of the arena, determined to avenge the murders of his family and the emperor.\\nThe screenplay, initially written by Franzoni, was inspired by the 1958 Daniel P. Mannix novel Those About to Die. The script was acquired by DreamWorks Pictures, and Scott signed on to direct the film. Principal photography began in January 1999 and wrapped in May of that year. Production was complicated by the script being rewritten multiple times and by the death of Oliver Reed before production was finished.\\nGladiator grossed $465.4 million worldwide, becoming the second highest-grossing film of 2000. Critics praised the acting, directing, cinematography, production design, and musical score. The film won five Academy Awards, including Best Picture and Best Actor for Crowe. A sequel, titled Gladiator II, is scheduled to be released in the United States on November 15, 2024.')]}\n"
          ]
        }
      ]
    },
    {
      "cell_type": "code",
      "source": [
        "import langchain\n",
        "\n",
        "langchain.debug = True"
      ],
      "metadata": {
        "id": "pEN0DHKYlw9L"
      },
      "execution_count": 52,
      "outputs": []
    },
    {
      "cell_type": "code",
      "source": [
        "# multi hop example\n",
        "question = \"What is the first film that Russell Crowe won an Oscar for, and who directed that movie?\"\n",
        "response = agent_executor.invoke({\"input\": question})\n",
        "print(response)"
      ],
      "metadata": {
        "colab": {
          "base_uri": "https://localhost:8080/"
        },
        "id": "s4vln1y1lxAS",
        "outputId": "00a2dd30-416d-497b-e3b8-3000678c8417"
      },
      "execution_count": 53,
      "outputs": [
        {
          "output_type": "stream",
          "name": "stdout",
          "text": [
            "\u001b[32;1m\u001b[1;3m[chain/start]\u001b[0m \u001b[1m[chain:AgentExecutor] Entering Chain run with input:\n",
            "\u001b[0m{\n",
            "  \"input\": \"What is the first film that Russell Crowe won an Oscar for, and who directed that movie?\"\n",
            "}\n",
            "\u001b[32;1m\u001b[1;3m[chain/start]\u001b[0m \u001b[1m[chain:AgentExecutor > chain:RunnableSequence] Entering Chain run with input:\n",
            "\u001b[0m{\n",
            "  \"input\": \"\"\n",
            "}\n",
            "\u001b[32;1m\u001b[1;3m[chain/start]\u001b[0m \u001b[1m[chain:AgentExecutor > chain:RunnableSequence > chain:RunnableAssign<agent_scratchpad>] Entering Chain run with input:\n",
            "\u001b[0m{\n",
            "  \"input\": \"\"\n",
            "}\n",
            "\u001b[32;1m\u001b[1;3m[chain/start]\u001b[0m \u001b[1m[chain:AgentExecutor > chain:RunnableSequence > chain:RunnableAssign<agent_scratchpad> > chain:RunnableParallel<agent_scratchpad>] Entering Chain run with input:\n",
            "\u001b[0m{\n",
            "  \"input\": \"\"\n",
            "}\n",
            "\u001b[32;1m\u001b[1;3m[chain/start]\u001b[0m \u001b[1m[chain:AgentExecutor > chain:RunnableSequence > chain:RunnableAssign<agent_scratchpad> > chain:RunnableParallel<agent_scratchpad> > chain:RunnableLambda] Entering Chain run with input:\n",
            "\u001b[0m{\n",
            "  \"input\": \"\"\n",
            "}\n",
            "\u001b[36;1m\u001b[1;3m[chain/end]\u001b[0m \u001b[1m[chain:AgentExecutor > chain:RunnableSequence > chain:RunnableAssign<agent_scratchpad> > chain:RunnableParallel<agent_scratchpad> > chain:RunnableLambda] [1ms] Exiting Chain run with output:\n",
            "\u001b[0m{\n",
            "  \"output\": \"\"\n",
            "}\n",
            "\u001b[36;1m\u001b[1;3m[chain/end]\u001b[0m \u001b[1m[chain:AgentExecutor > chain:RunnableSequence > chain:RunnableAssign<agent_scratchpad> > chain:RunnableParallel<agent_scratchpad>] [5ms] Exiting Chain run with output:\n",
            "\u001b[0m{\n",
            "  \"agent_scratchpad\": \"\"\n",
            "}\n",
            "\u001b[36;1m\u001b[1;3m[chain/end]\u001b[0m \u001b[1m[chain:AgentExecutor > chain:RunnableSequence > chain:RunnableAssign<agent_scratchpad>] [10ms] Exiting Chain run with output:\n",
            "\u001b[0m{\n",
            "  \"input\": \"What is the first film that Russell Crowe won an Oscar for, and who directed that movie?\",\n",
            "  \"intermediate_steps\": [],\n",
            "  \"agent_scratchpad\": \"\"\n",
            "}\n",
            "\u001b[32;1m\u001b[1;3m[chain/start]\u001b[0m \u001b[1m[chain:AgentExecutor > chain:RunnableSequence > prompt:PromptTemplate] Entering Prompt run with input:\n",
            "\u001b[0m{\n",
            "  \"input\": \"What is the first film that Russell Crowe won an Oscar for, and who directed that movie?\",\n",
            "  \"intermediate_steps\": [],\n",
            "  \"agent_scratchpad\": \"\"\n",
            "}\n",
            "\u001b[36;1m\u001b[1;3m[chain/end]\u001b[0m \u001b[1m[chain:AgentExecutor > chain:RunnableSequence > prompt:PromptTemplate] [1ms] Exiting Prompt run with output:\n",
            "\u001b[0m[outputs]\n",
            "\u001b[32;1m\u001b[1;3m[llm/start]\u001b[0m \u001b[1m[chain:AgentExecutor > chain:RunnableSequence > llm:ChatOpenAI] Entering LLM run with input:\n",
            "\u001b[0m{\n",
            "  \"prompts\": [\n",
            "    \"Human: \\n    Answer the following questions as best you can. You have access to the following tools:\\n\\n    Search(term: 'str') -> 'str' - useful for when you need to ask with search\\nLookup(term: 'str') -> 'str' - useful for when you need to ask with lookup\\nDateTime(_) - Useful for getting the current date and time\\n\\n    Use the following format:\\n\\n    Question: What is the first film that Russell Crowe won an Oscar for, and who directed that movie?\\n    Thought: Consider what information is needed and how to obtain it.\\n    Action: Choose one of the following actions [Search, Lookup, DateTime]\\n    Action Input: Provide the necessary input for the chosen action\\n    Observation: Record the result of the action\\n\\n    Final Answer:\"\n",
            "  ]\n",
            "}\n",
            "\u001b[36;1m\u001b[1;3m[llm/end]\u001b[0m \u001b[1m[chain:AgentExecutor > chain:RunnableSequence > llm:ChatOpenAI] [1.46s] Exiting LLM run with output:\n",
            "\u001b[0m{\n",
            "  \"generations\": [\n",
            "    [\n",
            "      {\n",
            "        \"text\": \"Question: What is the first film that Russell Crowe won an Oscar for, and who directed that movie?  \\nThought: I need to find out which film Russell Crowe won his first Oscar for and the director of that film.  \\nAction: Search  \\nAction Input: 'first film Russell Crowe won Oscar for'  \",\n",
            "        \"generation_info\": {\n",
            "          \"finish_reason\": \"stop\",\n",
            "          \"model_name\": \"gpt-4o-mini-2024-07-18\",\n",
            "          \"system_fingerprint\": \"fp_48196bc67a\"\n",
            "        },\n",
            "        \"type\": \"ChatGenerationChunk\",\n",
            "        \"message\": {\n",
            "          \"lc\": 1,\n",
            "          \"type\": \"constructor\",\n",
            "          \"id\": [\n",
            "            \"langchain\",\n",
            "            \"schema\",\n",
            "            \"messages\",\n",
            "            \"AIMessageChunk\"\n",
            "          ],\n",
            "          \"kwargs\": {\n",
            "            \"content\": \"Question: What is the first film that Russell Crowe won an Oscar for, and who directed that movie?  \\nThought: I need to find out which film Russell Crowe won his first Oscar for and the director of that film.  \\nAction: Search  \\nAction Input: 'first film Russell Crowe won Oscar for'  \",\n",
            "            \"response_metadata\": {\n",
            "              \"finish_reason\": \"stop\",\n",
            "              \"model_name\": \"gpt-4o-mini-2024-07-18\",\n",
            "              \"system_fingerprint\": \"fp_48196bc67a\"\n",
            "            },\n",
            "            \"type\": \"AIMessageChunk\",\n",
            "            \"id\": \"run-d14b3c7a-e5be-444a-9877-b5ea8bec459a\",\n",
            "            \"tool_calls\": [],\n",
            "            \"invalid_tool_calls\": []\n",
            "          }\n",
            "        }\n",
            "      }\n",
            "    ]\n",
            "  ],\n",
            "  \"llm_output\": null,\n",
            "  \"run\": null\n",
            "}\n",
            "\u001b[32;1m\u001b[1;3m[chain/start]\u001b[0m \u001b[1m[chain:AgentExecutor > chain:RunnableSequence > parser:ReActSingleInputOutputParser] Entering Parser run with input:\n",
            "\u001b[0m[inputs]\n",
            "\u001b[36;1m\u001b[1;3m[chain/end]\u001b[0m \u001b[1m[chain:AgentExecutor > chain:RunnableSequence > parser:ReActSingleInputOutputParser] [1ms] Exiting Parser run with output:\n",
            "\u001b[0m[outputs]\n",
            "\u001b[36;1m\u001b[1;3m[chain/end]\u001b[0m \u001b[1m[chain:AgentExecutor > chain:RunnableSequence] [1.48s] Exiting Chain run with output:\n",
            "\u001b[0m[outputs]\n",
            "\u001b[32;1m\u001b[1;3m[tool/start]\u001b[0m \u001b[1m[chain:AgentExecutor > tool:Search] Entering Tool run with input:\n",
            "\u001b[0m\"'first film Russell Crowe won Oscar for'\"\n",
            "\u001b[36;1m\u001b[1;3m[tool/end]\u001b[0m \u001b[1m[chain:AgentExecutor > tool:Search] [616ms] Exiting Tool run with output:\n",
            "\u001b[0m\"The Insider is a 1999 American biographical drama film directed by Michael Mann, from a screenplay adapted by Eric Roth and Mann based on Marie Brenner's 1996 Vanity Fair article \"The Man Who Knew Too Much\". The film stars Al Pacino, Russell Crowe, Christopher Plummer, Bruce McGill, Diane Venora, and Michael Gambon.\n",
            "A fictionalized account of a true story, it centers on the controversial 60 Minutes segment about Jeffrey Wigand, a whistleblower in the tobacco industry, covering his and CBS producer Lowell Bergman's struggles as they defend his testimony against efforts to discredit and suppress it by CBS and Wigand's former employer.\n",
            "Though not a box office success, The Insider received acclaim from critics, who praised Crowe's portrayal of Wigand, and Mann's direction. It was nominated for seven Academy Awards, including Best Picture and Best Actor in a Leading Role (for Russell Crowe).\"\n",
            "\u001b[32;1m\u001b[1;3m[chain/start]\u001b[0m \u001b[1m[chain:AgentExecutor > chain:RunnableSequence] Entering Chain run with input:\n",
            "\u001b[0m{\n",
            "  \"input\": \"\"\n",
            "}\n",
            "\u001b[32;1m\u001b[1;3m[chain/start]\u001b[0m \u001b[1m[chain:AgentExecutor > chain:RunnableSequence > chain:RunnableAssign<agent_scratchpad>] Entering Chain run with input:\n",
            "\u001b[0m{\n",
            "  \"input\": \"\"\n",
            "}\n",
            "\u001b[32;1m\u001b[1;3m[chain/start]\u001b[0m \u001b[1m[chain:AgentExecutor > chain:RunnableSequence > chain:RunnableAssign<agent_scratchpad> > chain:RunnableParallel<agent_scratchpad>] Entering Chain run with input:\n",
            "\u001b[0m{\n",
            "  \"input\": \"\"\n",
            "}\n",
            "\u001b[32;1m\u001b[1;3m[chain/start]\u001b[0m \u001b[1m[chain:AgentExecutor > chain:RunnableSequence > chain:RunnableAssign<agent_scratchpad> > chain:RunnableParallel<agent_scratchpad> > chain:RunnableLambda] Entering Chain run with input:\n",
            "\u001b[0m{\n",
            "  \"input\": \"\"\n",
            "}\n",
            "\u001b[36;1m\u001b[1;3m[chain/end]\u001b[0m \u001b[1m[chain:AgentExecutor > chain:RunnableSequence > chain:RunnableAssign<agent_scratchpad> > chain:RunnableParallel<agent_scratchpad> > chain:RunnableLambda] [2ms] Exiting Chain run with output:\n",
            "\u001b[0m{\n",
            "  \"output\": \"Question: What is the first film that Russell Crowe won an Oscar for, and who directed that movie?  \\nThought: I need to find out which film Russell Crowe won his first Oscar for and the director of that film.  \\nAction: Search  \\nAction Input: 'first film Russell Crowe won Oscar for'  \\nObservation: The Insider is a 1999 American biographical drama film directed by Michael Mann, from a screenplay adapted by Eric Roth and Mann based on Marie Brenner's 1996 Vanity Fair article \\\"The Man Who Knew Too Much\\\". The film stars Al Pacino, Russell Crowe, Christopher Plummer, Bruce McGill, Diane Venora, and Michael Gambon.\\nA fictionalized account of a true story, it centers on the controversial 60 Minutes segment about Jeffrey Wigand, a whistleblower in the tobacco industry, covering his and CBS producer Lowell Bergman's struggles as they defend his testimony against efforts to discredit and suppress it by CBS and Wigand's former employer.\\nThough not a box office success, The Insider received acclaim from critics, who praised Crowe's portrayal of Wigand, and Mann's direction. It was nominated for seven Academy Awards, including Best Picture and Best Actor in a Leading Role (for Russell Crowe).\\nThought: \"\n",
            "}\n",
            "\u001b[36;1m\u001b[1;3m[chain/end]\u001b[0m \u001b[1m[chain:AgentExecutor > chain:RunnableSequence > chain:RunnableAssign<agent_scratchpad> > chain:RunnableParallel<agent_scratchpad>] [5ms] Exiting Chain run with output:\n",
            "\u001b[0m{\n",
            "  \"agent_scratchpad\": \"Question: What is the first film that Russell Crowe won an Oscar for, and who directed that movie?  \\nThought: I need to find out which film Russell Crowe won his first Oscar for and the director of that film.  \\nAction: Search  \\nAction Input: 'first film Russell Crowe won Oscar for'  \\nObservation: The Insider is a 1999 American biographical drama film directed by Michael Mann, from a screenplay adapted by Eric Roth and Mann based on Marie Brenner's 1996 Vanity Fair article \\\"The Man Who Knew Too Much\\\". The film stars Al Pacino, Russell Crowe, Christopher Plummer, Bruce McGill, Diane Venora, and Michael Gambon.\\nA fictionalized account of a true story, it centers on the controversial 60 Minutes segment about Jeffrey Wigand, a whistleblower in the tobacco industry, covering his and CBS producer Lowell Bergman's struggles as they defend his testimony against efforts to discredit and suppress it by CBS and Wigand's former employer.\\nThough not a box office success, The Insider received acclaim from critics, who praised Crowe's portrayal of Wigand, and Mann's direction. It was nominated for seven Academy Awards, including Best Picture and Best Actor in a Leading Role (for Russell Crowe).\\nThought: \"\n",
            "}\n",
            "\u001b[36;1m\u001b[1;3m[chain/end]\u001b[0m \u001b[1m[chain:AgentExecutor > chain:RunnableSequence > chain:RunnableAssign<agent_scratchpad>] [10ms] Exiting Chain run with output:\n",
            "\u001b[0m[outputs]\n",
            "\u001b[32;1m\u001b[1;3m[chain/start]\u001b[0m \u001b[1m[chain:AgentExecutor > chain:RunnableSequence > prompt:PromptTemplate] Entering Prompt run with input:\n",
            "\u001b[0m[inputs]\n",
            "\u001b[36;1m\u001b[1;3m[chain/end]\u001b[0m \u001b[1m[chain:AgentExecutor > chain:RunnableSequence > prompt:PromptTemplate] [1ms] Exiting Prompt run with output:\n",
            "\u001b[0m[outputs]\n",
            "\u001b[32;1m\u001b[1;3m[llm/start]\u001b[0m \u001b[1m[chain:AgentExecutor > chain:RunnableSequence > llm:ChatOpenAI] Entering LLM run with input:\n",
            "\u001b[0m{\n",
            "  \"prompts\": [\n",
            "    \"Human: \\n    Answer the following questions as best you can. You have access to the following tools:\\n\\n    Search(term: 'str') -> 'str' - useful for when you need to ask with search\\nLookup(term: 'str') -> 'str' - useful for when you need to ask with lookup\\nDateTime(_) - Useful for getting the current date and time\\n\\n    Use the following format:\\n\\n    Question: What is the first film that Russell Crowe won an Oscar for, and who directed that movie?\\n    Thought: Consider what information is needed and how to obtain it.\\n    Action: Choose one of the following actions [Search, Lookup, DateTime]\\n    Action Input: Provide the necessary input for the chosen action\\n    Observation: Record the result of the action\\n\\n    Final Answer: Question: What is the first film that Russell Crowe won an Oscar for, and who directed that movie?  \\nThought: I need to find out which film Russell Crowe won his first Oscar for and the director of that film.  \\nAction: Search  \\nAction Input: 'first film Russell Crowe won Oscar for'  \\nObservation: The Insider is a 1999 American biographical drama film directed by Michael Mann, from a screenplay adapted by Eric Roth and Mann based on Marie Brenner's 1996 Vanity Fair article \\\"The Man Who Knew Too Much\\\". The film stars Al Pacino, Russell Crowe, Christopher Plummer, Bruce McGill, Diane Venora, and Michael Gambon.\\nA fictionalized account of a true story, it centers on the controversial 60 Minutes segment about Jeffrey Wigand, a whistleblower in the tobacco industry, covering his and CBS producer Lowell Bergman's struggles as they defend his testimony against efforts to discredit and suppress it by CBS and Wigand's former employer.\\nThough not a box office success, The Insider received acclaim from critics, who praised Crowe's portrayal of Wigand, and Mann's direction. It was nominated for seven Academy Awards, including Best Picture and Best Actor in a Leading Role (for Russell Crowe).\\nThought:\"\n",
            "  ]\n",
            "}\n",
            "\u001b[36;1m\u001b[1;3m[llm/end]\u001b[0m \u001b[1m[chain:AgentExecutor > chain:RunnableSequence > llm:ChatOpenAI] [4.04s] Exiting LLM run with output:\n",
            "\u001b[0m{\n",
            "  \"generations\": [\n",
            "    [\n",
            "      {\n",
            "        \"text\": \"I need to confirm the specific film for which Russell Crowe won his first Oscar and identify the director of that film. \\n\\nAction: Search  \\nAction Input: 'Russell Crowe first Oscar win film and director'  \",\n",
            "        \"generation_info\": {\n",
            "          \"finish_reason\": \"stop\",\n",
            "          \"model_name\": \"gpt-4o-mini-2024-07-18\",\n",
            "          \"system_fingerprint\": \"fp_48196bc67a\"\n",
            "        },\n",
            "        \"type\": \"ChatGenerationChunk\",\n",
            "        \"message\": {\n",
            "          \"lc\": 1,\n",
            "          \"type\": \"constructor\",\n",
            "          \"id\": [\n",
            "            \"langchain\",\n",
            "            \"schema\",\n",
            "            \"messages\",\n",
            "            \"AIMessageChunk\"\n",
            "          ],\n",
            "          \"kwargs\": {\n",
            "            \"content\": \"I need to confirm the specific film for which Russell Crowe won his first Oscar and identify the director of that film. \\n\\nAction: Search  \\nAction Input: 'Russell Crowe first Oscar win film and director'  \",\n",
            "            \"response_metadata\": {\n",
            "              \"finish_reason\": \"stop\",\n",
            "              \"model_name\": \"gpt-4o-mini-2024-07-18\",\n",
            "              \"system_fingerprint\": \"fp_48196bc67a\"\n",
            "            },\n",
            "            \"type\": \"AIMessageChunk\",\n",
            "            \"id\": \"run-4721b377-fc09-48eb-b9ca-e0d7f6a3bdac\",\n",
            "            \"tool_calls\": [],\n",
            "            \"invalid_tool_calls\": []\n",
            "          }\n",
            "        }\n",
            "      }\n",
            "    ]\n",
            "  ],\n",
            "  \"llm_output\": null,\n",
            "  \"run\": null\n",
            "}\n",
            "\u001b[32;1m\u001b[1;3m[chain/start]\u001b[0m \u001b[1m[chain:AgentExecutor > chain:RunnableSequence > parser:ReActSingleInputOutputParser] Entering Parser run with input:\n",
            "\u001b[0m[inputs]\n",
            "\u001b[36;1m\u001b[1;3m[chain/end]\u001b[0m \u001b[1m[chain:AgentExecutor > chain:RunnableSequence > parser:ReActSingleInputOutputParser] [1ms] Exiting Parser run with output:\n",
            "\u001b[0m[outputs]\n",
            "\u001b[36;1m\u001b[1;3m[chain/end]\u001b[0m \u001b[1m[chain:AgentExecutor > chain:RunnableSequence] [4.06s] Exiting Chain run with output:\n",
            "\u001b[0m[outputs]\n",
            "\u001b[32;1m\u001b[1;3m[tool/start]\u001b[0m \u001b[1m[chain:AgentExecutor > tool:Search] Entering Tool run with input:\n",
            "\u001b[0m\"'Russell Crowe first Oscar win film and director'\"\n",
            "\u001b[36;1m\u001b[1;3m[tool/end]\u001b[0m \u001b[1m[chain:AgentExecutor > tool:Search] [575ms] Exiting Tool run with output:\n",
            "\u001b[0m\"Gladiator is a 2000 historical epic film directed by Ridley Scott and written by David Franzoni, John Logan, and William Nicholson. It stars Russell Crowe, Joaquin Phoenix, Connie Nielsen, Oliver Reed, Richard Harris, Derek Jacobi, and Djimon Hounsou.\n",
            "Crowe portrays the Roman general Maximus Decimus Meridius, who is betrayed when Commodus, the ambitious son of Emperor Marcus Aurelius, murders his father and seizes the throne. Reduced to slavery, Maximus becomes a gladiator and rises through the ranks of the arena, determined to avenge the murders of his family and the emperor.\n",
            "The screenplay, initially written by Franzoni, was inspired by the 1958 Daniel P. Mannix novel Those About to Die. The script was acquired by DreamWorks Pictures, and Scott signed on to direct the film. Principal photography began in January 1999 and wrapped in May of that year. Production was complicated by the script being rewritten multiple times and by the death of Oliver Reed before production was finished.\n",
            "Gladiator grossed $465.4 million worldwide, becoming the second highest-grossing film of 2000. Critics praised the acting, directing, cinematography, production design, and musical score. The film won five Academy Awards, including Best Picture and Best Actor for Crowe. A sequel, titled Gladiator II, is scheduled to be released in the United States on November 15, 2024.\"\n",
            "\u001b[32;1m\u001b[1;3m[chain/start]\u001b[0m \u001b[1m[chain:AgentExecutor > chain:RunnableSequence] Entering Chain run with input:\n",
            "\u001b[0m{\n",
            "  \"input\": \"\"\n",
            "}\n",
            "\u001b[32;1m\u001b[1;3m[chain/start]\u001b[0m \u001b[1m[chain:AgentExecutor > chain:RunnableSequence > chain:RunnableAssign<agent_scratchpad>] Entering Chain run with input:\n",
            "\u001b[0m{\n",
            "  \"input\": \"\"\n",
            "}\n",
            "\u001b[32;1m\u001b[1;3m[chain/start]\u001b[0m \u001b[1m[chain:AgentExecutor > chain:RunnableSequence > chain:RunnableAssign<agent_scratchpad> > chain:RunnableParallel<agent_scratchpad>] Entering Chain run with input:\n",
            "\u001b[0m{\n",
            "  \"input\": \"\"\n",
            "}\n",
            "\u001b[32;1m\u001b[1;3m[chain/start]\u001b[0m \u001b[1m[chain:AgentExecutor > chain:RunnableSequence > chain:RunnableAssign<agent_scratchpad> > chain:RunnableParallel<agent_scratchpad> > chain:RunnableLambda] Entering Chain run with input:\n",
            "\u001b[0m{\n",
            "  \"input\": \"\"\n",
            "}\n",
            "\u001b[36;1m\u001b[1;3m[chain/end]\u001b[0m \u001b[1m[chain:AgentExecutor > chain:RunnableSequence > chain:RunnableAssign<agent_scratchpad> > chain:RunnableParallel<agent_scratchpad> > chain:RunnableLambda] [2ms] Exiting Chain run with output:\n",
            "\u001b[0m{\n",
            "  \"output\": \"Question: What is the first film that Russell Crowe won an Oscar for, and who directed that movie?  \\nThought: I need to find out which film Russell Crowe won his first Oscar for and the director of that film.  \\nAction: Search  \\nAction Input: 'first film Russell Crowe won Oscar for'  \\nObservation: The Insider is a 1999 American biographical drama film directed by Michael Mann, from a screenplay adapted by Eric Roth and Mann based on Marie Brenner's 1996 Vanity Fair article \\\"The Man Who Knew Too Much\\\". The film stars Al Pacino, Russell Crowe, Christopher Plummer, Bruce McGill, Diane Venora, and Michael Gambon.\\nA fictionalized account of a true story, it centers on the controversial 60 Minutes segment about Jeffrey Wigand, a whistleblower in the tobacco industry, covering his and CBS producer Lowell Bergman's struggles as they defend his testimony against efforts to discredit and suppress it by CBS and Wigand's former employer.\\nThough not a box office success, The Insider received acclaim from critics, who praised Crowe's portrayal of Wigand, and Mann's direction. It was nominated for seven Academy Awards, including Best Picture and Best Actor in a Leading Role (for Russell Crowe).\\nThought: I need to confirm the specific film for which Russell Crowe won his first Oscar and identify the director of that film. \\n\\nAction: Search  \\nAction Input: 'Russell Crowe first Oscar win film and director'  \\nObservation: Gladiator is a 2000 historical epic film directed by Ridley Scott and written by David Franzoni, John Logan, and William Nicholson. It stars Russell Crowe, Joaquin Phoenix, Connie Nielsen, Oliver Reed, Richard Harris, Derek Jacobi, and Djimon Hounsou.\\nCrowe portrays the Roman general Maximus Decimus Meridius, who is betrayed when Commodus, the ambitious son of Emperor Marcus Aurelius, murders his father and seizes the throne. Reduced to slavery, Maximus becomes a gladiator and rises through the ranks of the arena, determined to avenge the murders of his family and the emperor.\\nThe screenplay, initially written by Franzoni, was inspired by the 1958 Daniel P. Mannix novel Those About to Die. The script was acquired by DreamWorks Pictures, and Scott signed on to direct the film. Principal photography began in January 1999 and wrapped in May of that year. Production was complicated by the script being rewritten multiple times and by the death of Oliver Reed before production was finished.\\nGladiator grossed $465.4 million worldwide, becoming the second highest-grossing film of 2000. Critics praised the acting, directing, cinematography, production design, and musical score. The film won five Academy Awards, including Best Picture and Best Actor for Crowe. A sequel, titled Gladiator II, is scheduled to be released in the United States on November 15, 2024.\\nThought: \"\n",
            "}\n",
            "\u001b[36;1m\u001b[1;3m[chain/end]\u001b[0m \u001b[1m[chain:AgentExecutor > chain:RunnableSequence > chain:RunnableAssign<agent_scratchpad> > chain:RunnableParallel<agent_scratchpad>] [5ms] Exiting Chain run with output:\n",
            "\u001b[0m{\n",
            "  \"agent_scratchpad\": \"Question: What is the first film that Russell Crowe won an Oscar for, and who directed that movie?  \\nThought: I need to find out which film Russell Crowe won his first Oscar for and the director of that film.  \\nAction: Search  \\nAction Input: 'first film Russell Crowe won Oscar for'  \\nObservation: The Insider is a 1999 American biographical drama film directed by Michael Mann, from a screenplay adapted by Eric Roth and Mann based on Marie Brenner's 1996 Vanity Fair article \\\"The Man Who Knew Too Much\\\". The film stars Al Pacino, Russell Crowe, Christopher Plummer, Bruce McGill, Diane Venora, and Michael Gambon.\\nA fictionalized account of a true story, it centers on the controversial 60 Minutes segment about Jeffrey Wigand, a whistleblower in the tobacco industry, covering his and CBS producer Lowell Bergman's struggles as they defend his testimony against efforts to discredit and suppress it by CBS and Wigand's former employer.\\nThough not a box office success, The Insider received acclaim from critics, who praised Crowe's portrayal of Wigand, and Mann's direction. It was nominated for seven Academy Awards, including Best Picture and Best Actor in a Leading Role (for Russell Crowe).\\nThought: I need to confirm the specific film for which Russell Crowe won his first Oscar and identify the director of that film. \\n\\nAction: Search  \\nAction Input: 'Russell Crowe first Oscar win film and director'  \\nObservation: Gladiator is a 2000 historical epic film directed by Ridley Scott and written by David Franzoni, John Logan, and William Nicholson. It stars Russell Crowe, Joaquin Phoenix, Connie Nielsen, Oliver Reed, Richard Harris, Derek Jacobi, and Djimon Hounsou.\\nCrowe portrays the Roman general Maximus Decimus Meridius, who is betrayed when Commodus, the ambitious son of Emperor Marcus Aurelius, murders his father and seizes the throne. Reduced to slavery, Maximus becomes a gladiator and rises through the ranks of the arena, determined to avenge the murders of his family and the emperor.\\nThe screenplay, initially written by Franzoni, was inspired by the 1958 Daniel P. Mannix novel Those About to Die. The script was acquired by DreamWorks Pictures, and Scott signed on to direct the film. Principal photography began in January 1999 and wrapped in May of that year. Production was complicated by the script being rewritten multiple times and by the death of Oliver Reed before production was finished.\\nGladiator grossed $465.4 million worldwide, becoming the second highest-grossing film of 2000. Critics praised the acting, directing, cinematography, production design, and musical score. The film won five Academy Awards, including Best Picture and Best Actor for Crowe. A sequel, titled Gladiator II, is scheduled to be released in the United States on November 15, 2024.\\nThought: \"\n",
            "}\n",
            "\u001b[36;1m\u001b[1;3m[chain/end]\u001b[0m \u001b[1m[chain:AgentExecutor > chain:RunnableSequence > chain:RunnableAssign<agent_scratchpad>] [9ms] Exiting Chain run with output:\n",
            "\u001b[0m[outputs]\n",
            "\u001b[32;1m\u001b[1;3m[chain/start]\u001b[0m \u001b[1m[chain:AgentExecutor > chain:RunnableSequence > prompt:PromptTemplate] Entering Prompt run with input:\n",
            "\u001b[0m[inputs]\n",
            "\u001b[36;1m\u001b[1;3m[chain/end]\u001b[0m \u001b[1m[chain:AgentExecutor > chain:RunnableSequence > prompt:PromptTemplate] [1ms] Exiting Prompt run with output:\n",
            "\u001b[0m[outputs]\n",
            "\u001b[32;1m\u001b[1;3m[llm/start]\u001b[0m \u001b[1m[chain:AgentExecutor > chain:RunnableSequence > llm:ChatOpenAI] Entering LLM run with input:\n",
            "\u001b[0m{\n",
            "  \"prompts\": [\n",
            "    \"Human: \\n    Answer the following questions as best you can. You have access to the following tools:\\n\\n    Search(term: 'str') -> 'str' - useful for when you need to ask with search\\nLookup(term: 'str') -> 'str' - useful for when you need to ask with lookup\\nDateTime(_) - Useful for getting the current date and time\\n\\n    Use the following format:\\n\\n    Question: What is the first film that Russell Crowe won an Oscar for, and who directed that movie?\\n    Thought: Consider what information is needed and how to obtain it.\\n    Action: Choose one of the following actions [Search, Lookup, DateTime]\\n    Action Input: Provide the necessary input for the chosen action\\n    Observation: Record the result of the action\\n\\n    Final Answer: Question: What is the first film that Russell Crowe won an Oscar for, and who directed that movie?  \\nThought: I need to find out which film Russell Crowe won his first Oscar for and the director of that film.  \\nAction: Search  \\nAction Input: 'first film Russell Crowe won Oscar for'  \\nObservation: The Insider is a 1999 American biographical drama film directed by Michael Mann, from a screenplay adapted by Eric Roth and Mann based on Marie Brenner's 1996 Vanity Fair article \\\"The Man Who Knew Too Much\\\". The film stars Al Pacino, Russell Crowe, Christopher Plummer, Bruce McGill, Diane Venora, and Michael Gambon.\\nA fictionalized account of a true story, it centers on the controversial 60 Minutes segment about Jeffrey Wigand, a whistleblower in the tobacco industry, covering his and CBS producer Lowell Bergman's struggles as they defend his testimony against efforts to discredit and suppress it by CBS and Wigand's former employer.\\nThough not a box office success, The Insider received acclaim from critics, who praised Crowe's portrayal of Wigand, and Mann's direction. It was nominated for seven Academy Awards, including Best Picture and Best Actor in a Leading Role (for Russell Crowe).\\nThought: I need to confirm the specific film for which Russell Crowe won his first Oscar and identify the director of that film. \\n\\nAction: Search  \\nAction Input: 'Russell Crowe first Oscar win film and director'  \\nObservation: Gladiator is a 2000 historical epic film directed by Ridley Scott and written by David Franzoni, John Logan, and William Nicholson. It stars Russell Crowe, Joaquin Phoenix, Connie Nielsen, Oliver Reed, Richard Harris, Derek Jacobi, and Djimon Hounsou.\\nCrowe portrays the Roman general Maximus Decimus Meridius, who is betrayed when Commodus, the ambitious son of Emperor Marcus Aurelius, murders his father and seizes the throne. Reduced to slavery, Maximus becomes a gladiator and rises through the ranks of the arena, determined to avenge the murders of his family and the emperor.\\nThe screenplay, initially written by Franzoni, was inspired by the 1958 Daniel P. Mannix novel Those About to Die. The script was acquired by DreamWorks Pictures, and Scott signed on to direct the film. Principal photography began in January 1999 and wrapped in May of that year. Production was complicated by the script being rewritten multiple times and by the death of Oliver Reed before production was finished.\\nGladiator grossed $465.4 million worldwide, becoming the second highest-grossing film of 2000. Critics praised the acting, directing, cinematography, production design, and musical score. The film won five Academy Awards, including Best Picture and Best Actor for Crowe. A sequel, titled Gladiator II, is scheduled to be released in the United States on November 15, 2024.\\nThought:\"\n",
            "  ]\n",
            "}\n",
            "\u001b[36;1m\u001b[1;3m[llm/end]\u001b[0m \u001b[1m[chain:AgentExecutor > chain:RunnableSequence > llm:ChatOpenAI] [1.49s] Exiting LLM run with output:\n",
            "\u001b[0m{\n",
            "  \"generations\": [\n",
            "    [\n",
            "      {\n",
            "        \"text\": \"I have gathered the necessary information regarding Russell Crowe's first Oscar win and the director of that film.\\n\\nFinal Answer: Question: What is the first film that Russell Crowe won an Oscar for, and who directed that movie?  \\nRussell Crowe won his first Oscar for the film \\\"Gladiator,\\\" which was directed by Ridley Scott.\",\n",
            "        \"generation_info\": {\n",
            "          \"finish_reason\": \"stop\",\n",
            "          \"model_name\": \"gpt-4o-mini-2024-07-18\",\n",
            "          \"system_fingerprint\": \"fp_48196bc67a\"\n",
            "        },\n",
            "        \"type\": \"ChatGenerationChunk\",\n",
            "        \"message\": {\n",
            "          \"lc\": 1,\n",
            "          \"type\": \"constructor\",\n",
            "          \"id\": [\n",
            "            \"langchain\",\n",
            "            \"schema\",\n",
            "            \"messages\",\n",
            "            \"AIMessageChunk\"\n",
            "          ],\n",
            "          \"kwargs\": {\n",
            "            \"content\": \"I have gathered the necessary information regarding Russell Crowe's first Oscar win and the director of that film.\\n\\nFinal Answer: Question: What is the first film that Russell Crowe won an Oscar for, and who directed that movie?  \\nRussell Crowe won his first Oscar for the film \\\"Gladiator,\\\" which was directed by Ridley Scott.\",\n",
            "            \"response_metadata\": {\n",
            "              \"finish_reason\": \"stop\",\n",
            "              \"model_name\": \"gpt-4o-mini-2024-07-18\",\n",
            "              \"system_fingerprint\": \"fp_48196bc67a\"\n",
            "            },\n",
            "            \"type\": \"AIMessageChunk\",\n",
            "            \"id\": \"run-50fa330b-40f7-42ab-907a-efb34ca06689\",\n",
            "            \"tool_calls\": [],\n",
            "            \"invalid_tool_calls\": []\n",
            "          }\n",
            "        }\n",
            "      }\n",
            "    ]\n",
            "  ],\n",
            "  \"llm_output\": null,\n",
            "  \"run\": null\n",
            "}\n",
            "\u001b[32;1m\u001b[1;3m[chain/start]\u001b[0m \u001b[1m[chain:AgentExecutor > chain:RunnableSequence > parser:ReActSingleInputOutputParser] Entering Parser run with input:\n",
            "\u001b[0m[inputs]\n",
            "\u001b[36;1m\u001b[1;3m[chain/end]\u001b[0m \u001b[1m[chain:AgentExecutor > chain:RunnableSequence > parser:ReActSingleInputOutputParser] [1ms] Exiting Parser run with output:\n",
            "\u001b[0m[outputs]\n",
            "\u001b[36;1m\u001b[1;3m[chain/end]\u001b[0m \u001b[1m[chain:AgentExecutor > chain:RunnableSequence] [1.51s] Exiting Chain run with output:\n",
            "\u001b[0m[outputs]\n",
            "\u001b[36;1m\u001b[1;3m[chain/end]\u001b[0m \u001b[1m[chain:AgentExecutor] [8.28s] Exiting Chain run with output:\n",
            "\u001b[0m[outputs]\n",
            "{'input': 'What is the first film that Russell Crowe won an Oscar for, and who directed that movie?', 'output': 'Question: What is the first film that Russell Crowe won an Oscar for, and who directed that movie?  \\nRussell Crowe won his first Oscar for the film \"Gladiator,\" which was directed by Ridley Scott.', 'intermediate_steps': [(AgentAction(tool='Search', tool_input=\"'first film Russell Crowe won Oscar for'\", log=\"Question: What is the first film that Russell Crowe won an Oscar for, and who directed that movie?  \\nThought: I need to find out which film Russell Crowe won his first Oscar for and the director of that film.  \\nAction: Search  \\nAction Input: 'first film Russell Crowe won Oscar for'  \"), 'The Insider is a 1999 American biographical drama film directed by Michael Mann, from a screenplay adapted by Eric Roth and Mann based on Marie Brenner\\'s 1996 Vanity Fair article \"The Man Who Knew Too Much\". The film stars Al Pacino, Russell Crowe, Christopher Plummer, Bruce McGill, Diane Venora, and Michael Gambon.\\nA fictionalized account of a true story, it centers on the controversial 60 Minutes segment about Jeffrey Wigand, a whistleblower in the tobacco industry, covering his and CBS producer Lowell Bergman\\'s struggles as they defend his testimony against efforts to discredit and suppress it by CBS and Wigand\\'s former employer.\\nThough not a box office success, The Insider received acclaim from critics, who praised Crowe\\'s portrayal of Wigand, and Mann\\'s direction. It was nominated for seven Academy Awards, including Best Picture and Best Actor in a Leading Role (for Russell Crowe).'), (AgentAction(tool='Search', tool_input=\"'Russell Crowe first Oscar win film and director'\", log=\"I need to confirm the specific film for which Russell Crowe won his first Oscar and identify the director of that film. \\n\\nAction: Search  \\nAction Input: 'Russell Crowe first Oscar win film and director'  \"), 'Gladiator is a 2000 historical epic film directed by Ridley Scott and written by David Franzoni, John Logan, and William Nicholson. It stars Russell Crowe, Joaquin Phoenix, Connie Nielsen, Oliver Reed, Richard Harris, Derek Jacobi, and Djimon Hounsou.\\nCrowe portrays the Roman general Maximus Decimus Meridius, who is betrayed when Commodus, the ambitious son of Emperor Marcus Aurelius, murders his father and seizes the throne. Reduced to slavery, Maximus becomes a gladiator and rises through the ranks of the arena, determined to avenge the murders of his family and the emperor.\\nThe screenplay, initially written by Franzoni, was inspired by the 1958 Daniel P. Mannix novel Those About to Die. The script was acquired by DreamWorks Pictures, and Scott signed on to direct the film. Principal photography began in January 1999 and wrapped in May of that year. Production was complicated by the script being rewritten multiple times and by the death of Oliver Reed before production was finished.\\nGladiator grossed $465.4 million worldwide, becoming the second highest-grossing film of 2000. Critics praised the acting, directing, cinematography, production design, and musical score. The film won five Academy Awards, including Best Picture and Best Actor for Crowe. A sequel, titled Gladiator II, is scheduled to be released in the United States on November 15, 2024.')]}\n"
          ]
        }
      ]
    },
    {
      "cell_type": "code",
      "source": [
        "langchain.debug = False"
      ],
      "metadata": {
        "id": "dL8Ebu_JlxDT"
      },
      "execution_count": 54,
      "outputs": []
    }
  ]
}